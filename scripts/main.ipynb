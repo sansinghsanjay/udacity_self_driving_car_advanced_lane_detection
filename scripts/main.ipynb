{
 "cells": [
  {
   "cell_type": "code",
   "execution_count": 1,
   "metadata": {
    "collapsed": true
   },
   "outputs": [],
   "source": [
    "#*******************\n",
    "# PYTHON VER: 3.5.2\n",
    "#*******************\n",
    "# libraries\n",
    "import numpy as np\n",
    "import cv2\n",
    "import os\n",
    "import matplotlib.pyplot as plt\n",
    "from moviepy.editor import VideoFileClip"
   ]
  },
  {
   "cell_type": "code",
   "execution_count": 2,
   "metadata": {
    "collapsed": true
   },
   "outputs": [],
   "source": [
    "# paths\n",
    "input_camera_calibration_path = \"./../camera_calibration/\"\n",
    "output_camera_calibration_path = \"./../camera_calibration_output/\"\n",
    "input_test_images_path = \"./../test_images/\"\n",
    "output_test_images_path = \"./../test_images_output/\"\n",
    "input_test_videos_path = \"./../test_videos/\"\n",
    "output_test_videos_path = \"./../test_videos_output/\""
   ]
  },
  {
   "cell_type": "code",
   "execution_count": 3,
   "metadata": {
    "collapsed": true
   },
   "outputs": [],
   "source": [
    "# function for perspective transform\n",
    "def perspective_transform(undist_img):\n",
    "\t# taking height and width of undistorted image\n",
    "\th, w = undist_img.shape[:2]\n",
    "\t# coordinates of trapezium on source and destination image\n",
    "\tsrc = np.float32([(575, 464), (707, 464), (258, 682), (1049, 682)])\n",
    "\tdest = np.float32([(450, 0), (w - 450, 0), (450, h), (w - 450, h)])\n",
    "\t# perspective transform step\n",
    "\tM = cv2.getPerspectiveTransform(src, dest)\n",
    "\tM_inverse = cv2.getPerspectiveTransform(dest, src)\n",
    "\twarped = cv2.warpPerspective(undist_img, M, (w, h), flags=cv2.INTER_LINEAR)\n",
    "\treturn warped, M, M_inverse"
   ]
  },
  {
   "cell_type": "code",
   "execution_count": 4,
   "metadata": {
    "collapsed": true
   },
   "outputs": [],
   "source": [
    "# function for HLS color model\n",
    "def hls(img, min_thresh=220, max_thresh=255):\n",
    "\t# converting img into hls_img\n",
    "\thls_img = cv2.cvtColor(img, cv2.COLOR_RGB2HLS)\n",
    "\t# taking l-channel\n",
    "\tl_img = hls_img[:, :, 1]\n",
    "\tl_img = l_img * (255 / np.max(l_img))\n",
    "\t# applying threshold\n",
    "\tbin_img = np.zeros_like(l_img)\n",
    "\tbin_img[(l_img > min_thresh) & (l_img <= max_thresh)] = 1\n",
    "\treturn bin_img"
   ]
  },
  {
   "cell_type": "code",
   "execution_count": 5,
   "metadata": {
    "collapsed": true
   },
   "outputs": [],
   "source": [
    "# function for Lab color space\n",
    "def lab(img, min_thresh=190, max_thresh=255):\n",
    "\t# converting image into lab color model\n",
    "\tlab_img = cv2.cvtColor(img, cv2.COLOR_RGB2Lab)\n",
    "\t# taking last channel\n",
    "\tb_img = lab_img[:, :, 2]\n",
    "\t# normalize if lane is yellow\n",
    "\tif(np.max(b_img) > 175):\n",
    "\t\tb_img = b_img * (255 / np.max(b_img))\n",
    "\t# applying threshold\n",
    "\tbin_img = np.zeros_like(b_img)\n",
    "\tbin_img[(b_img > min_thresh) & (b_img <= max_thresh)] = 1\n",
    "\treturn bin_img"
   ]
  },
  {
   "cell_type": "code",
   "execution_count": 6,
   "metadata": {
    "collapsed": true
   },
   "outputs": [],
   "source": [
    "# define method to fit polynomial to binary image with lines extracted, using sliding window\n",
    "def sliding_window_polyfit(img):\n",
    "\t# Take a histogram of the bottom half of the image\n",
    "\thistogram = np.sum(img[img.shape[0]//2:,:], axis=0)\n",
    "\t# Find the peak of the left and right halves of the histogram\n",
    "\t# These will be the starting point for the left and right lines\n",
    "\tmidpoint = np.int(histogram.shape[0]//2)\n",
    "\tquarter_point = np.int(midpoint//2)\n",
    "\t# Previously the left/right base was the max of the left/right half of the histogram\n",
    "\t# this changes it so that only a quarter of the histogram (directly to the left/right) is considered\n",
    "\tleftx_base = np.argmax(histogram[quarter_point:midpoint]) + quarter_point\n",
    "\trightx_base = np.argmax(histogram[midpoint:(midpoint+quarter_point)]) + midpoint    \n",
    "\t# Choose the number of sliding windows\n",
    "\tnwindows = 10\n",
    "\t# Set height of windows\n",
    "\twindow_height = np.int(img.shape[0]/nwindows)\n",
    "\t# Identify the x and y positions of all nonzero pixels in the image\n",
    "\tnonzero = img.nonzero()\n",
    "\tnonzeroy = np.array(nonzero[0])\n",
    "\tnonzerox = np.array(nonzero[1])\n",
    "\t# Current positions to be updated for each window\n",
    "\tleftx_current = leftx_base\n",
    "\trightx_current = rightx_base\n",
    "\t# Set the width of the windows +/- margin\n",
    "\tmargin = 80\n",
    "\t# Set minimum number of pixels found to recenter window\n",
    "\tminpix = 40\n",
    "\t# Create empty lists to receive left and right lane pixel indices\n",
    "\tleft_lane_inds = []\n",
    "\tright_lane_inds = []\n",
    "\t# Rectangle data for visualization\n",
    "\trectangle_data = []\n",
    "\t# Step through the windows one by one\n",
    "\tfor window in range(nwindows):\n",
    "\t\t# Identify window boundaries in x and y (and right and left)\n",
    "\t\twin_y_low = img.shape[0] - (window+1)*window_height\n",
    "\t\twin_y_high = img.shape[0] - window*window_height\n",
    "\t\twin_xleft_low = leftx_current - margin\n",
    "\t\twin_xleft_high = leftx_current + margin\n",
    "\t\twin_xright_low = rightx_current - margin\n",
    "\t\twin_xright_high = rightx_current + margin\n",
    "\t\trectangle_data.append((win_y_low, win_y_high, win_xleft_low, win_xleft_high, win_xright_low, win_xright_high))\n",
    "\t\t# Identify the nonzero pixels in x and y within the window\n",
    "\t\tgood_left_inds = ((nonzeroy >= win_y_low) & (nonzeroy < win_y_high) & (nonzerox >= win_xleft_low) & (nonzerox < win_xleft_high)).nonzero()[0]\n",
    "\t\tgood_right_inds = ((nonzeroy >= win_y_low) & (nonzeroy < win_y_high) & (nonzerox >= win_xright_low) & (nonzerox < win_xright_high)).nonzero()[0]\n",
    "\t\t# Append these indices to the lists\n",
    "\t\tleft_lane_inds.append(good_left_inds)\n",
    "\t\tright_lane_inds.append(good_right_inds)\n",
    "\t\t# If you found > minpix pixels, recenter next window on their mean position\n",
    "\t\tif len(good_left_inds) > minpix:\n",
    "\t\t\tleftx_current = np.int(np.mean(nonzerox[good_left_inds]))\n",
    "\t\tif len(good_right_inds) > minpix:        \n",
    "\t\t\trightx_current = np.int(np.mean(nonzerox[good_right_inds]))\n",
    "\t# Concatenate the arrays of indices\n",
    "\tleft_lane_inds = np.concatenate(left_lane_inds)\n",
    "\tright_lane_inds = np.concatenate(right_lane_inds)\n",
    "\t# Extract left and right line pixel positions\n",
    "\tleftx = nonzerox[left_lane_inds]\n",
    "\tlefty = nonzeroy[left_lane_inds] \n",
    "\trightx = nonzerox[right_lane_inds]\n",
    "\trighty = nonzeroy[right_lane_inds]\n",
    "\tleft_fit, right_fit = (None, None)\n",
    "\t# Fit a second order polynomial to each\n",
    "\tif len(leftx) != 0:\n",
    "\t\tleft_fit = np.polyfit(lefty, leftx, 2)\n",
    "\tif len(rightx) != 0:\n",
    "\t\tright_fit = np.polyfit(righty, rightx, 2)\n",
    "\tvisualization_data = (rectangle_data, histogram)\n",
    "\treturn left_fit, right_fit, left_lane_inds, right_lane_inds, visualization_data"
   ]
  },
  {
   "cell_type": "code",
   "execution_count": 7,
   "metadata": {
    "collapsed": true
   },
   "outputs": [],
   "source": [
    "# Define a class to receive the characteristics of each line detection\n",
    "class Line():\n",
    "\tdef __init__(self):\n",
    "\t\t# was the line detected in the last iteration?\n",
    "\t\tself.detected = False  \n",
    "\t\t# x values of the last n fits of the line\n",
    "\t\tself.recent_xfitted = [] \n",
    "\t\t#average x values of the fitted line over the last n iterations\n",
    "\t\tself.bestx = None     \n",
    "\t\t#polynomial coefficients averaged over the last n iterations\n",
    "\t\tself.best_fit = None  \n",
    "\t\t#polynomial coefficients for the most recent fit\n",
    "\t\tself.current_fit = []  \n",
    "\t\t#radius of curvature of the line in some units\n",
    "\t\tself.radius_of_curvature = None \n",
    "\t\t#distance in meters of vehicle center from the line\n",
    "\t\tself.line_base_pos = None \n",
    "\t\t#difference in fit coefficients between last and new fits\n",
    "\t\tself.diffs = np.array([0,0,0], dtype='float') \n",
    "\t\t#number of detected pixels\n",
    "\t\tself.px_count = None\n",
    "\tdef add_fit(self, fit, inds):\n",
    "\t\t# add a found fit to the line, up to n\n",
    "\t\tif fit is not None:\n",
    "\t\t\tif self.best_fit is not None:\n",
    "\t\t\t\t# if we have a best fit, see how this new fit compares\n",
    "\t\t\t\tself.diffs = abs(fit-self.best_fit)\n",
    "\t\t\tif (self.diffs[0] > 0.001 or \\\n",
    "\t\t\t\tself.diffs[1] > 1.0 or \\\n",
    "\t\t\t\tself.diffs[2] > 100.) and \\\n",
    "\t\t\t\tlen(self.current_fit) > 0:\n",
    "\t\t\t\t# bad fit! abort! abort! ... well, unless there are no fits in the current_fit queue, then we'll take it\n",
    "\t\t\t\tself.detected = False\n",
    "\t\t\telse:\n",
    "\t\t\t\tself.detected = True\n",
    "\t\t\t\tself.px_count = np.count_nonzero(inds)\n",
    "\t\t\t\tself.current_fit.append(fit)\n",
    "\t\t\t\tif len(self.current_fit) > 5:\n",
    "\t\t\t\t\t# throw out old fits, keep newest n\n",
    "\t\t\t\t\tself.current_fit = self.current_fit[len(self.current_fit)-5:]\n",
    "\t\t\t\tself.best_fit = np.average(self.current_fit, axis=0)\n",
    "\t\t# or remove one from the history, if not found\n",
    "\t\telse:\n",
    "\t\t\tself.detected = False\n",
    "\t\t\tif len(self.current_fit) > 0:\n",
    "\t\t\t\t# throw out oldest fit\n",
    "\t\t\t\tself.current_fit = self.current_fit[:len(self.current_fit)-1]\n",
    "\t\t\tif len(self.current_fit) > 0:\n",
    "\t\t\t\t# if there are still any fits in the queue, best_fit is their average\n",
    "\t\t\t\tself.best_fit = np.average(self.current_fit, axis=0)"
   ]
  },
  {
   "cell_type": "code",
   "execution_count": 8,
   "metadata": {
    "collapsed": true
   },
   "outputs": [],
   "source": [
    "# Define method to fit polynomial to binary image based upon a previous fit (chronologically speaking);\n",
    "# this assumes that the fit will not change significantly from one video frame to the next\n",
    "def polyfit_using_prev_fit(binary_warped, left_fit_prev, right_fit_prev):\n",
    "\tnonzero = binary_warped.nonzero()\n",
    "\tnonzeroy = np.array(nonzero[0])\n",
    "\tnonzerox = np.array(nonzero[1])\n",
    "\tmargin = 80\n",
    "\tleft_lane_inds = ((nonzerox > (left_fit_prev[0]*(nonzeroy**2) + left_fit_prev[1]*nonzeroy + left_fit_prev[2] - margin)) & (nonzerox < (left_fit_prev[0]*(nonzeroy**2) + left_fit_prev[1]*nonzeroy + left_fit_prev[2] + margin)))\n",
    "\tright_lane_inds = ((nonzerox > (right_fit_prev[0]*(nonzeroy**2) + right_fit_prev[1]*nonzeroy + right_fit_prev[2] - margin)) & (nonzerox < (right_fit_prev[0]*(nonzeroy**2) + right_fit_prev[1]*nonzeroy + right_fit_prev[2] + margin)))\n",
    "\t# Again, extract left and right line pixel positions\n",
    "\tleftx = nonzerox[left_lane_inds]\n",
    "\tlefty = nonzeroy[left_lane_inds] \n",
    "\trightx = nonzerox[right_lane_inds]\n",
    "\trighty = nonzeroy[right_lane_inds]\n",
    "\tleft_fit_new, right_fit_new = (None, None)\n",
    "\tif len(leftx) != 0:\n",
    "\t\t# Fit a second order polynomial to each\n",
    "\t\tleft_fit_new = np.polyfit(lefty, leftx, 2)\n",
    "\tif len(rightx) != 0:\n",
    "\t\tright_fit_new = np.polyfit(righty, rightx, 2)\n",
    "\treturn left_fit_new, right_fit_new, left_lane_inds, right_lane_inds"
   ]
  },
  {
   "cell_type": "code",
   "execution_count": 9,
   "metadata": {
    "collapsed": true
   },
   "outputs": [],
   "source": [
    "def draw_lane(original_img, binary_img, l_fit, r_fit, Minv):\n",
    "\tnew_img = np.copy(original_img)\n",
    "\tif l_fit is None or r_fit is None:\n",
    "\t\treturn original_img\n",
    "\t# Create an image to draw the lines on\n",
    "\twarp_zero = np.zeros_like(binary_img).astype(np.uint8)\n",
    "\tcolor_warp = np.dstack((warp_zero, warp_zero, warp_zero))\n",
    "\th,w = binary_img.shape\n",
    "\tploty = np.linspace(0, h-1, num=h)# to cover same y-range as image\n",
    "\tleft_fitx = l_fit[0]*ploty**2 + l_fit[1]*ploty + l_fit[2]\n",
    "\tright_fitx = r_fit[0]*ploty**2 + r_fit[1]*ploty + r_fit[2]\n",
    "\t# Recast the x and y points into usable format for cv2.fillPoly()\n",
    "\tpts_left = np.array([np.transpose(np.vstack([left_fitx, ploty]))])\n",
    "\tpts_right = np.array([np.flipud(np.transpose(np.vstack([right_fitx, ploty])))])\n",
    "\tpts = np.hstack((pts_left, pts_right))\n",
    "\t# Draw the lane onto the warped blank image\n",
    "\tcv2.fillPoly(color_warp, np.int_([pts]), (0,255, 0))\n",
    "\tcv2.polylines(color_warp, np.int32([pts_left]), isClosed=False, color=(255,0,255), thickness=15)\n",
    "\tcv2.polylines(color_warp, np.int32([pts_right]), isClosed=False, color=(0,255,255), thickness=15)\n",
    "\t# Warp the blank back to original image space using inverse perspective matrix (Minv)\n",
    "\tnewwarp = cv2.warpPerspective(color_warp, Minv, (w, h)) \n",
    "\t# Combine the result with the original image\n",
    "\tresult = cv2.addWeighted(new_img, 1, newwarp, 0.5, 0)\n",
    "\treturn result"
   ]
  },
  {
   "cell_type": "code",
   "execution_count": 10,
   "metadata": {
    "collapsed": true
   },
   "outputs": [],
   "source": [
    "def draw_data(original_img, curv_rad, center_dist):\n",
    "\tnew_img = np.copy(original_img)\n",
    "\th = new_img.shape[0]\n",
    "\tfont = cv2.FONT_HERSHEY_DUPLEX\n",
    "\ttext = 'Curve radius: ' + '{:04.2f}'.format(curv_rad) + 'm'\n",
    "\tcv2.putText(new_img, text, (40,70), font, 1.5, (200,255,155), 2, cv2.LINE_AA)\n",
    "\tdirection = ''\n",
    "\tif center_dist > 0:\n",
    "\t\tdirection = 'right'\n",
    "\telif center_dist < 0:\n",
    "\t\tdirection = 'left'\n",
    "\tabs_center_dist = abs(center_dist)\n",
    "\ttext = '{:04.3f}'.format(abs_center_dist) + 'm ' + direction + ' of center'\n",
    "\tcv2.putText(new_img, text, (40,120), font, 1.5, (200,255,155), 2, cv2.LINE_AA)\n",
    "\treturn new_img"
   ]
  },
  {
   "cell_type": "code",
   "execution_count": 11,
   "metadata": {
    "collapsed": true
   },
   "outputs": [],
   "source": [
    "def calc_curv_rad_and_center_dist(bin_img, l_fit, r_fit, l_lane_inds, r_lane_inds):\n",
    "\t# Define conversions in x and y from pixels space to meters\n",
    "\tym_per_pix = 3.048/100 # meters per pixel in y dimension, lane line is 10 ft = 3.048 meters\n",
    "\txm_per_pix = 3.7/378 # meters per pixel in x dimension, lane width is 12 ft = 3.7 meters\n",
    "\tleft_curverad, right_curverad, center_dist = (0, 0, 0)\n",
    "\t# Define y-value where we want radius of curvature\n",
    "\t# I'll choose the maximum y-value, corresponding to the bottom of the image\n",
    "\th = bin_img.shape[0]\n",
    "\tploty = np.linspace(0, h-1, h)\n",
    "\ty_eval = np.max(ploty)\n",
    "\t# Identify the x and y positions of all nonzero pixels in the image\n",
    "\tnonzero = bin_img.nonzero()\n",
    "\tnonzeroy = np.array(nonzero[0])\n",
    "\tnonzerox = np.array(nonzero[1])\n",
    "\t# Again, extract left and right line pixel positions\n",
    "\tleftx = nonzerox[l_lane_inds]\n",
    "\tlefty = nonzeroy[l_lane_inds] \n",
    "\trightx = nonzerox[r_lane_inds]\n",
    "\trighty = nonzeroy[r_lane_inds]\n",
    "\tif len(leftx) != 0 and len(rightx) != 0:\n",
    "\t\t# Fit new polynomials to x,y in world space\n",
    "\t\tleft_fit_cr = np.polyfit(lefty*ym_per_pix, leftx*xm_per_pix, 2)\n",
    "\t\tright_fit_cr = np.polyfit(righty*ym_per_pix, rightx*xm_per_pix, 2)\n",
    "\t\t# Calculate the new radii of curvature\n",
    "\t\tleft_curverad = ((1 + (2*left_fit_cr[0]*y_eval*ym_per_pix + left_fit_cr[1])**2)**1.5) / np.absolute(2*left_fit_cr[0])\n",
    "\t\tright_curverad = ((1 + (2*right_fit_cr[0]*y_eval*ym_per_pix + right_fit_cr[1])**2)**1.5) / np.absolute(2*right_fit_cr[0])\n",
    "\t\t# Now our radius of curvature is in meters\n",
    "\t# Distance from center is image x midpoint - mean of l_fit and r_fit intercepts \n",
    "\tif r_fit is not None and l_fit is not None:\n",
    "\t\tcar_position = bin_img.shape[1]/2\n",
    "\t\tl_fit_x_int = l_fit[0]*h**2 + l_fit[1]*h + l_fit[2]\n",
    "\t\tr_fit_x_int = r_fit[0]*h**2 + r_fit[1]*h + r_fit[2]\n",
    "\t\tlane_center_position = (r_fit_x_int + l_fit_x_int) /2\n",
    "\t\tcenter_dist = (car_position - lane_center_position) * xm_per_pix\n",
    "\treturn left_curverad, right_curverad, center_dist"
   ]
  },
  {
   "cell_type": "code",
   "execution_count": 12,
   "metadata": {
    "collapsed": true
   },
   "outputs": [],
   "source": [
    "# main function\n",
    "def pipeline(img):\n",
    "\tglobal mtx, dist\n",
    "\t# undistorting image\n",
    "\tundist_img = cv2.undistort(img, mtx, dist, None, mtx)\n",
    "\t# perspective transforming image\n",
    "\tperspect_img, M, M_inverse = perspective_transform(undist_img)\n",
    "\t# getting HLS and Lab images\n",
    "\thls_img = hls(perspect_img)\n",
    "\tlab_img = lab(perspect_img)\n",
    "\t# combining hls and lab images\n",
    "\tcombine = np.zeros_like(lab_img)\n",
    "\tcombine[(hls_img == 1) | (lab_img == 1)] = 1\n",
    "\t# if both left and right lines were detected last frame, use polyfit_using_prev_fit, otherwise use sliding window\n",
    "\tif not l_line.detected or not r_line.detected:\n",
    "\t\tl_fit, r_fit, l_lane_inds, r_lane_inds, _ = sliding_window_polyfit(combine)\n",
    "\telse:\n",
    "\t\tl_fit, r_fit, l_lane_inds, r_lane_inds = polyfit_using_prev_fit(combine, l_line.best_fit, r_line.best_fit)\n",
    "\t# invalidate both fits if the difference in their x-intercepts isn't around 350 px (+/- 100 px)\n",
    "\tif l_fit is not None and r_fit is not None:\n",
    "\t\t# calculate x-intercept (bottom of image, x=image_height) for fits\n",
    "\t\th = img.shape[0]\n",
    "\t\tl_fit_x_int = l_fit[0]*h**2 + l_fit[1]*h + l_fit[2]\n",
    "\t\tr_fit_x_int = r_fit[0]*h**2 + r_fit[1]*h + r_fit[2]\n",
    "\t\tx_int_diff = abs(r_fit_x_int-l_fit_x_int)\n",
    "\t\tif abs(350 - x_int_diff) > 100:\n",
    "\t\t\tl_fit = None\n",
    "\t\t\tr_fit = None\n",
    "\tl_line.add_fit(l_fit, l_lane_inds)\n",
    "\tr_line.add_fit(r_fit, r_lane_inds)\n",
    "\t# draw the current best fit if it exists\n",
    "\tif l_line.best_fit is not None and r_line.best_fit is not None:\n",
    "\t\timg_out = draw_lane(undist_img, combine, l_line.best_fit, r_line.best_fit, M_inverse)\n",
    "\t\trad_l, rad_r, d_center = calc_curv_rad_and_center_dist(combine, l_line.best_fit, r_line.best_fit, l_lane_inds, r_lane_inds)\n",
    "\t\timg_out = draw_data(img_out, (rad_l+rad_r)/2, d_center)\n",
    "\telse:\n",
    "\t\timg_out = undist_img\n",
    "\treturn img_out"
   ]
  },
  {
   "cell_type": "code",
   "execution_count": 13,
   "metadata": {
    "collapsed": true
   },
   "outputs": [],
   "source": [
    "# number of inside corners in chessboard images\n",
    "nx = 9\n",
    "ny = 6"
   ]
  },
  {
   "cell_type": "code",
   "execution_count": 14,
   "metadata": {
    "collapsed": true
   },
   "outputs": [],
   "source": [
    "# getting all chessboard image names\n",
    "chessboard_imagenames = os.listdir(input_camera_calibration_path)"
   ]
  },
  {
   "cell_type": "code",
   "execution_count": 15,
   "metadata": {
    "collapsed": true
   },
   "outputs": [],
   "source": [
    "# for storing object points (3D image) and image points (2D image) of all images\n",
    "object_points = []\n",
    "image_points = []"
   ]
  },
  {
   "cell_type": "code",
   "execution_count": 16,
   "metadata": {},
   "outputs": [
    {
     "name": "stdout",
     "output_type": "stream",
     "text": [
      "cv2 failed to find inside corners in chessboard images: calibration4.jpg\n",
      "cv2 failed to find inside corners in chessboard images: calibration1.jpg\n",
      "cv2 failed to find inside corners in chessboard images: calibration5.jpg\n"
     ]
    }
   ],
   "source": [
    "# reading all images and locating their inside corners\n",
    "for i in range(len(chessboard_imagenames)):\n",
    "\t# for storing object points of i-th image\n",
    "\tobject_p = np.zeros((nx * ny, 3), np.float32)\n",
    "\tobject_p[:, :2] = np.mgrid[0:nx, 0:ny].T.reshape(-1, 2)\n",
    "\t# path of i-th image\n",
    "\timagename = input_camera_calibration_path + chessboard_imagenames[i]\n",
    "\t# reading image\n",
    "\timg = cv2.imread(imagename)\n",
    "\t# converting image into a grayscale image\n",
    "\tgray_img = cv2.cvtColor(img, cv2.COLOR_BGR2GRAY)\n",
    "\t# finding inside corners in gray_img\n",
    "\tstatus, corners = cv2.findChessboardCorners(gray_img, (nx, ny), None)\n",
    "\t# if status is True then display image\n",
    "\tif(status == True):\n",
    "\t\t# storing image points and object points\n",
    "\t\timage_points.append(corners)\n",
    "\t\tobject_points.append(object_p)\n",
    "\telse:\n",
    "\t\tprint(\"cv2 failed to find inside corners in chessboard images: \" + chessboard_imagenames[i])"
   ]
  },
  {
   "cell_type": "code",
   "execution_count": 17,
   "metadata": {},
   "outputs": [
    {
     "data": {
      "image/png": "[encoded data removed]",
      "text/plain": [
       "<matplotlib.figure.Figure at 0x7f9d25fe2e10>"
      ]
     },
     "metadata": {},
     "output_type": "display_data"
    },
    {
     "data": {
      "text/plain": [
       "True"
      ]
     },
     "execution_count": 17,
     "metadata": {},
     "output_type": "execute_result"
    }
   ],
   "source": [
    "# testing undistortion on a chessboard image\n",
    "img = cv2.imread(input_camera_calibration_path + \"calibration1.jpg\")\n",
    "ret, mtx, dist, rvecs, tvecs = cv2.calibrateCamera(object_points, image_points, img.shape[:2], None, None)\n",
    "undist_img = cv2.undistort(img, mtx, dist, None, mtx)\n",
    "# showing image before and after undistortion\n",
    "fig = plt.figure()\n",
    "a = fig.add_subplot(1, 2, 1)\n",
    "plt.imshow(img)\n",
    "a.set_title(\"Real\")\n",
    "a = fig.add_subplot(1, 2, 2)\n",
    "plt.imshow(undist_img)\n",
    "a.set_title(\"Undistorted\")\n",
    "plt.show()\n",
    "# saving undistorted image\n",
    "cv2.imwrite(output_camera_calibration_path + \"output_calibration1.jpg\", undist_img)"
   ]
  },
  {
   "cell_type": "code",
   "execution_count": 18,
   "metadata": {
    "collapsed": true
   },
   "outputs": [],
   "source": [
    "l_line = Line()\n",
    "r_line = Line()"
   ]
  },
  {
   "cell_type": "code",
   "execution_count": 19,
   "metadata": {
    "collapsed": true
   },
   "outputs": [],
   "source": [
    "# getting list of test images\n",
    "files = os.listdir(input_test_images_path)\n",
    "# reading each image and undistorting it\n",
    "for i in range(len(files)):\n",
    "\t# path of i-th image\n",
    "\tfile_path = input_test_images_path + files[i]\n",
    "\t# reading image\n",
    "\timg = cv2.imread(file_path)\n",
    "\t# transforming color model\n",
    "\timg = cv2.cvtColor(img, cv2.COLOR_BGR2RGB)\n",
    "\t# passing image to pipeline function\n",
    "\timg_out = pipeline(img)\n",
    "\t# converting color space of output image\n",
    "\timg_out = cv2.cvtColor(img_out, cv2.COLOR_BGR2RGB)\n",
    "\t# saving output image\n",
    "\tcv2.imwrite(output_test_images_path + \"output_\" + files[i], img_out)"
   ]
  },
  {
   "cell_type": "code",
   "execution_count": 20,
   "metadata": {},
   "outputs": [
    {
     "name": "stdout",
     "output_type": "stream",
     "text": [
      "[MoviePy] >>>> Building video ./../test_videos_output/output_project_video.mp4\n",
      "[MoviePy] Writing video ./../test_videos_output/output_project_video.mp4\n"
     ]
    },
    {
     "name": "stderr",
     "output_type": "stream",
     "text": [
      "100%|█████████▉| 1260/1261 [03:25<00:00,  6.10it/s]\n"
     ]
    },
    {
     "name": "stdout",
     "output_type": "stream",
     "text": [
      "[MoviePy] Done.\n",
      "[MoviePy] >>>> Video ready: ./../test_videos_output/output_project_video.mp4 \n",
      "\n",
      "[MoviePy] >>>> Building video ./../test_videos_output/output_challenge_video.mp4\n",
      "[MoviePy] Writing video ./../test_videos_output/output_challenge_video.mp4\n"
     ]
    },
    {
     "name": "stderr",
     "output_type": "stream",
     "text": [
      "100%|██████████| 485/485 [01:13<00:00,  6.56it/s]\n"
     ]
    },
    {
     "name": "stdout",
     "output_type": "stream",
     "text": [
      "[MoviePy] Done.\n",
      "[MoviePy] >>>> Video ready: ./../test_videos_output/output_challenge_video.mp4 \n",
      "\n"
     ]
    }
   ],
   "source": [
    "# getting list of test videos\n",
    "files = os.listdir(input_test_videos_path)\n",
    "# marking lanes in each video\n",
    "for i in range(len(files)):\n",
    "\t# making video of project video\n",
    "\tvideo_input1 = VideoFileClip(input_test_videos_path + files[i])\n",
    "\tprocessed_video = video_input1.fl_image(pipeline)\n",
    "\tprocessed_video.write_videofile(output_test_videos_path + \"output_\" + files[i], audio=False)"
   ]
  },
  {
   "cell_type": "markdown",
   "metadata": {},
   "source": []
  }
 ],
 "metadata": {
  "kernelspec": {
   "display_name": "Python 3",
   "language": "python",
   "name": "python3"
  },
  "language_info": {
   "codemirror_mode": {
    "name": "ipython",
    "version": 3
   },
   "file_extension": ".py",
   "mimetype": "text/x-python",
   "name": "python",
   "nbconvert_exporter": "python",
   "pygments_lexer": "ipython3",
   "version": "3.5.2"
  }
 },
 "nbformat": 4,
 "nbformat_minor": 2
}
